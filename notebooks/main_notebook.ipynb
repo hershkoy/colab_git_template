{
 "cells": [
  {
   "cell_type": "code",
   "execution_count": 1,
   "metadata": {
    "colab": {},
    "colab_type": "code",
    "id": "PUZoDxrBUMeR"
   },
   "outputs": [],
   "source": [
    "%load_ext autoreload\n",
    "%autoreload 2\n",
    "\n",
    "import configparser\n",
    "import os.path\n",
    "from os import path\n",
    "from importlib import reload\n",
    "\n",
    "WANDB_enable = False\n",
    "creds_path_ar = [\"../credentials.ini\",\"credentials.colab.ini\"]\n",
    "root_path = \"\"\n",
    "data_path = \"\"\n",
    "\n",
    "for creds_path in creds_path_ar:\n",
    "  if path.exists(creds_path):\n",
    "      config_parser = configparser.ConfigParser()\n",
    "      config_parser.read(creds_path)\n",
    "      root_path = config_parser['MAIN'][\"PATH_ROOT\"]\n",
    "      data_path = config_parser['MAIN'][\"PATH_DATA\"]\n",
    "      ENV = config_parser['MAIN'][\"ENV\"]\n",
    "      break\n",
    "\n",
    "if ENV==\"COLAB\":\n",
    "  from google.colab import drive\n",
    "  drive.mount('/content/drive')"
   ]
  },
  {
   "cell_type": "code",
   "execution_count": 2,
   "metadata": {
    "colab": {},
    "colab_type": "code",
    "id": "YN_61DcBUxcb"
   },
   "outputs": [
    {
     "name": "stdout",
     "output_type": "stream",
     "text": [
      "e:\\WORK\\ML\\content\\git_colab_system\\colab_git_template\n"
     ]
    }
   ],
   "source": [
    "cd {root_path}"
   ]
  },
  {
   "cell_type": "code",
   "execution_count": 6,
   "metadata": {
    "colab": {},
    "colab_type": "code",
    "id": "xlv2IEhvSKqE"
   },
   "outputs": [],
   "source": [
    "#imports:\n",
    "import sklearn\n",
    "import numpy as np\n",
    "\n",
    "from src import experiment_utils as utils\n"
   ]
  },
  {
   "cell_type": "code",
   "execution_count": 7,
   "metadata": {},
   "outputs": [
    {
     "name": "stdout",
     "output_type": "stream",
     "text": [
      "hello!!!\n"
     ]
    }
   ],
   "source": [
    "print(utils.myFunc(\"hello\"))"
   ]
  }
 ],
 "metadata": {
  "colab": {
   "collapsed_sections": [],
   "name": "SemiSupervisedUMAP_oneSession.ipynb",
   "provenance": []
  },
  "kernelspec": {
   "display_name": "Python 3",
   "language": "python",
   "name": "python3"
  },
  "language_info": {
   "codemirror_mode": {
    "name": "ipython",
    "version": 3
   },
   "file_extension": ".py",
   "mimetype": "text/x-python",
   "name": "python",
   "nbconvert_exporter": "python",
   "pygments_lexer": "ipython3",
   "version": "3.7.6"
  }
 },
 "nbformat": 4,
 "nbformat_minor": 1
}
